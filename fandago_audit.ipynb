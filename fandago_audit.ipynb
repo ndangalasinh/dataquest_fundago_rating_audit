{
 "cells": [
  {
   "cell_type": "markdown",
   "metadata": {},
   "source": [
    "# Fandago rating audit\n",
    "- Fandango Media, LLC is an American ticketing company that sells movie tickets via their website as well as through their mobile app, as well as a provider of television and streaming media information, e.g., through its subsidiaries Flixster, Movies.com, and Rotten Tomatoes.\n",
    "\n",
    "## In 2015 Fandago was accused of doctoring its user movie ratings and making it hard for a movie to receive lower ratings, on its defence Fandago said that this was a problem caused by some glitch in their website and it was working on fixing\n",
    "\n",
    "##  In this analysis we are going to look the 2017/2016 data  and determine if the user rating in Fandago now are okay."
   ]
  }
 ],
 "metadata": {
  "kernelspec": {
   "display_name": "Python 3",
   "language": "python",
   "name": "python3"
  },
  "language_info": {
   "codemirror_mode": {
    "name": "ipython",
    "version": 3
   },
   "file_extension": ".py",
   "mimetype": "text/x-python",
   "name": "python",
   "nbconvert_exporter": "python",
   "pygments_lexer": "ipython3",
   "version": "3.7.4"
  }
 },
 "nbformat": 4,
 "nbformat_minor": 2
}
